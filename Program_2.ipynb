{
 "cells": [
  {
   "cell_type": "code",
   "execution_count": null,
   "id": "a884ab99",
   "metadata": {},
   "outputs": [],
   "source": [
    "1.Write a Python program to convert kilometers to miles?"
   ]
  },
  {
   "cell_type": "code",
   "execution_count": 1,
   "id": "193a446e",
   "metadata": {},
   "outputs": [
    {
     "name": "stdout",
     "output_type": "stream",
     "text": [
      "Enter kilometer: 5\n",
      "5.00 kilometers is equal to 3.11 miles\n"
     ]
    }
   ],
   "source": [
    "kilometers = float(input(\"Enter kilometer: \"))\n",
    "miles = kilometers* 0.62137119\n",
    "print('%0.2f kilometers is equal to %0.2f miles' %(kilometers,miles))"
   ]
  },
  {
   "cell_type": "code",
   "execution_count": null,
   "id": "df89160b",
   "metadata": {},
   "outputs": [],
   "source": [
    "2.Write a Python program to convert Celsius to Fahrenheit?"
   ]
  },
  {
   "cell_type": "code",
   "execution_count": 2,
   "id": "194b3e7f",
   "metadata": {},
   "outputs": [
    {
     "name": "stdout",
     "output_type": "stream",
     "text": [
      "Enter Celsius: 50\n",
      "50.00 c is equal to 122.00 f\n"
     ]
    }
   ],
   "source": [
    "c = float(input(\"Enter Celsius: \"))\n",
    "f = (c*9/5) + 32\n",
    "print('%0.2f c is equal to %0.2f f' %(c,f))"
   ]
  },
  {
   "cell_type": "code",
   "execution_count": null,
   "id": "4318cbc6",
   "metadata": {},
   "outputs": [],
   "source": [
    "3.Write a Python program to display calendar?"
   ]
  },
  {
   "cell_type": "code",
   "execution_count": 3,
   "id": "f1f0fc87",
   "metadata": {},
   "outputs": [
    {
     "name": "stdout",
     "output_type": "stream",
     "text": [
      "Enter year: 2022\n",
      "Enter month: 06\n",
      "     June 2022\n",
      "Mo Tu We Th Fr Sa Su\n",
      "       1  2  3  4  5\n",
      " 6  7  8  9 10 11 12\n",
      "13 14 15 16 17 18 19\n",
      "20 21 22 23 24 25 26\n",
      "27 28 29 30\n",
      "\n"
     ]
    }
   ],
   "source": [
    "import calendar\n",
    " \n",
    "yy = int(input(\"Enter year: \"))\n",
    "mm = int(input(\"Enter month: \"))\n",
    "print(calendar.month(yy, mm))"
   ]
  },
  {
   "cell_type": "code",
   "execution_count": null,
   "id": "1566d65b",
   "metadata": {},
   "outputs": [],
   "source": [
    "4.Write a Python program to solve quadratic equation ?"
   ]
  },
  {
   "cell_type": "code",
   "execution_count": 4,
   "id": "777af4fc",
   "metadata": {},
   "outputs": [],
   "source": [
    "import cmath"
   ]
  },
  {
   "cell_type": "code",
   "execution_count": 6,
   "id": "bbf04f18",
   "metadata": {},
   "outputs": [
    {
     "name": "stdout",
     "output_type": "stream",
     "text": [
      "Enter a value: 2\n",
      "Enter b value: 3\n",
      "Enter c value: 1\n",
      "(-1+0j) (-0.5+0j)\n"
     ]
    }
   ],
   "source": [
    "\n",
    "a = float(input(\"Enter a value: \"))\n",
    "b = float(input(\"Enter b value: \"))\n",
    "c = float(input(\"Enter c value: \"))\n",
    "\n",
    "d = (b**2)-(4*a*c)\n",
    "\n",
    "root1 = (-b-cmath.sqrt(d))/(2*a)\n",
    "root2 = (-b+cmath.sqrt(d))/(2*a)\n",
    "print(root1, root2)"
   ]
  },
  {
   "cell_type": "code",
   "execution_count": null,
   "id": "1e919501",
   "metadata": {},
   "outputs": [],
   "source": [
    "5.Write a Python program to swap two variables without temp variable?"
   ]
  },
  {
   "cell_type": "code",
   "execution_count": 7,
   "id": "5d18a676",
   "metadata": {},
   "outputs": [
    {
     "name": "stdout",
     "output_type": "stream",
     "text": [
      "enter the number of a 10\n",
      "enter the number of b 20\n",
      "After swaping value of a and b is  20 and 10\n"
     ]
    }
   ],
   "source": [
    "a = int(input(\"enter the number of a \"))\n",
    "b = int(input(\"enter the number of b \"))\n",
    "\n",
    "a = a+b\n",
    "b = a-b\n",
    "a = a-b\n",
    "\n",
    "print(\"After swaping value of a and b is \",a,\"and\",b)"
   ]
  },
  {
   "cell_type": "code",
   "execution_count": null,
   "id": "4fa03af7",
   "metadata": {},
   "outputs": [],
   "source": []
  },
  {
   "cell_type": "code",
   "execution_count": null,
   "id": "c45f0dbf",
   "metadata": {},
   "outputs": [],
   "source": []
  }
 ],
 "metadata": {
  "kernelspec": {
   "display_name": "Python 3 (ipykernel)",
   "language": "python",
   "name": "python3"
  },
  "language_info": {
   "codemirror_mode": {
    "name": "ipython",
    "version": 3
   },
   "file_extension": ".py",
   "mimetype": "text/x-python",
   "name": "python",
   "nbconvert_exporter": "python",
   "pygments_lexer": "ipython3",
   "version": "3.9.12"
  }
 },
 "nbformat": 4,
 "nbformat_minor": 5
}
